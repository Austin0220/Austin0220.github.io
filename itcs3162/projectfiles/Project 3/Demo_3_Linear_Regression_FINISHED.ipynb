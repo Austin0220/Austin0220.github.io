{
  "cells": [
    {
      "cell_type": "markdown",
      "metadata": {
        "id": "7WU4iMpf6eJb"
      },
      "source": [
        "# What is regression?\n",
        "\n",
        "Regression is a method of finding a relationship between 2 or more features in a dataset. For this demo, we will be looking at linear regression to predict stock price based on company factors, and then testing how accurate the model actually is.\n",
        "\n",
        "For this project, we need a few libraries:\n",
        "- Pandas (dataframes)\n",
        "- Matplotlib (Visualizations)\n",
        "-Seaborn (Visualizations)\n",
        "-Scikit-learn (Data partition, testing, accuracy)\n",
        "-Statsmodel (Regression)\n"
      ]
    },
    {
      "cell_type": "code",
      "execution_count": 37,
      "metadata": {
        "id": "VpGPLCGS6UQJ"
      },
      "outputs": [],
      "source": [
        "# Download libraries if needed\n",
        "#! pip install pandas numpy matplotlib seaborn sklearn statsmodel"
      ]
    },
    {
      "cell_type": "code",
      "execution_count": 38,
      "metadata": {
        "id": "MPJRU0F_4IzV"
      },
      "outputs": [],
      "source": [
        "# Import libraries\n",
        "import pandas as pd\n",
        "import numpy as np\n",
        "import matplotlib.pyplot as plt\n",
        "import seaborn as sns\n",
        "from sklearn.model_selection import train_test_split\n",
        "from sklearn.metrics import mean_absolute_error, mean_squared_error\n",
        "from sklearn.linear_model import LinearRegression\n",
        "import statsmodels.api as sm"
      ]
    },
    {
      "cell_type": "code",
      "execution_count": 39,
      "metadata": {
        "id": "BvTltgvMVKEV"
      },
      "outputs": [],
      "source": [
        "df = pd.read_csv('applefinancials.csv', na_values = [' ', '$-'])"
      ]
    },
    {
      "cell_type": "markdown",
      "metadata": {
        "id": "ceYC13N07S09"
      },
      "source": [
        "# Data Exploration"
      ]
    },
    {
      "cell_type": "code",
      "execution_count": 40,
      "metadata": {
        "colab": {
          "base_uri": "https://localhost:8080/",
          "height": 362
        },
        "id": "GVUjmSWg7n-e",
        "outputId": "0fc9f860-9a8a-472f-a553-e7d5ce3404f4"
      },
      "outputs": [
        {
          "data": {
            "text/html": [
              "<div>\n",
              "<style scoped>\n",
              "    .dataframe tbody tr th:only-of-type {\n",
              "        vertical-align: middle;\n",
              "    }\n",
              "\n",
              "    .dataframe tbody tr th {\n",
              "        vertical-align: top;\n",
              "    }\n",
              "\n",
              "    .dataframe thead th {\n",
              "        text-align: right;\n",
              "    }\n",
              "</style>\n",
              "<table border=\"1\" class=\"dataframe\">\n",
              "  <thead>\n",
              "    <tr style=\"text-align: right;\">\n",
              "      <th></th>\n",
              "      <th>Date</th>\n",
              "      <th>Net sales</th>\n",
              "      <th>Net income</th>\n",
              "      <th>EPS</th>\n",
              "      <th>Earnings per diluted share</th>\n",
              "      <th>Cash dividends  declared  per common  share</th>\n",
              "      <th>Common and  common  equivalent  shares used  in the  calculations  of basic earnings per  share (Per Thousand)</th>\n",
              "      <th>Common and  common  equivalent  shares used  in the  calculations  of diluted earnings per  share (Per Thousand)</th>\n",
              "      <th>Cash</th>\n",
              "      <th>Total assets</th>\n",
              "      <th>Commercial paper</th>\n",
              "      <th>Long-term debt</th>\n",
              "      <th>Other long-term obligations</th>\n",
              "      <th>Other non-current liabilities</th>\n",
              "      <th>Deferred tax \\n liabilities</th>\n",
              "      <th>Total Liabilities</th>\n",
              "      <th>Shareholder's Equity</th>\n",
              "      <th>Price</th>\n",
              "    </tr>\n",
              "  </thead>\n",
              "  <tbody>\n",
              "    <tr>\n",
              "      <th>0</th>\n",
              "      <td>1/1/1991</td>\n",
              "      <td>5558.44</td>\n",
              "      <td>474.90</td>\n",
              "      <td>3.77</td>\n",
              "      <td>NaN</td>\n",
              "      <td>0.44</td>\n",
              "      <td>125813</td>\n",
              "      <td>NaN</td>\n",
              "      <td>997.09</td>\n",
              "      <td>2975.71</td>\n",
              "      <td>NaN</td>\n",
              "      <td>5.44</td>\n",
              "      <td>NaN</td>\n",
              "      <td>NaN</td>\n",
              "      <td>501.83</td>\n",
              "      <td>NaN</td>\n",
              "      <td>NaN</td>\n",
              "      <td>0.395841</td>\n",
              "    </tr>\n",
              "    <tr>\n",
              "      <th>1</th>\n",
              "      <td>1/1/1992</td>\n",
              "      <td>6308.85</td>\n",
              "      <td>309.84</td>\n",
              "      <td>2.58</td>\n",
              "      <td>NaN</td>\n",
              "      <td>0.48</td>\n",
              "      <td>120283</td>\n",
              "      <td>NaN</td>\n",
              "      <td>892.72</td>\n",
              "      <td>3493.60</td>\n",
              "      <td>NaN</td>\n",
              "      <td>18.13</td>\n",
              "      <td>NaN</td>\n",
              "      <td>NaN</td>\n",
              "      <td>509.87</td>\n",
              "      <td>NaN</td>\n",
              "      <td>NaN</td>\n",
              "      <td>0.466136</td>\n",
              "    </tr>\n",
              "    <tr>\n",
              "      <th>2</th>\n",
              "      <td>1/1/1993</td>\n",
              "      <td>7086.54</td>\n",
              "      <td>530.37</td>\n",
              "      <td>4.33</td>\n",
              "      <td>NaN</td>\n",
              "      <td>0.48</td>\n",
              "      <td>122490</td>\n",
              "      <td>NaN</td>\n",
              "      <td>1435.50</td>\n",
              "      <td>4223.69</td>\n",
              "      <td>NaN</td>\n",
              "      <td>17.74</td>\n",
              "      <td>NaN</td>\n",
              "      <td>NaN</td>\n",
              "      <td>610.80</td>\n",
              "      <td>NaN</td>\n",
              "      <td>NaN</td>\n",
              "      <td>0.432079</td>\n",
              "    </tr>\n",
              "    <tr>\n",
              "      <th>3</th>\n",
              "      <td>1/1/1994</td>\n",
              "      <td>7976.95</td>\n",
              "      <td>86.59</td>\n",
              "      <td>0.73</td>\n",
              "      <td>NaN</td>\n",
              "      <td>0.48</td>\n",
              "      <td>119125</td>\n",
              "      <td>NaN</td>\n",
              "      <td>892.30</td>\n",
              "      <td>5171.41</td>\n",
              "      <td>NaN</td>\n",
              "      <td>7.12</td>\n",
              "      <td>NaN</td>\n",
              "      <td>NaN</td>\n",
              "      <td>629.83</td>\n",
              "      <td>NaN</td>\n",
              "      <td>NaN</td>\n",
              "      <td>0.240755</td>\n",
              "    </tr>\n",
              "    <tr>\n",
              "      <th>4</th>\n",
              "      <td>1/1/1995</td>\n",
              "      <td>9188.75</td>\n",
              "      <td>310.18</td>\n",
              "      <td>2.61</td>\n",
              "      <td>NaN</td>\n",
              "      <td>0.48</td>\n",
              "      <td>118735</td>\n",
              "      <td>NaN</td>\n",
              "      <td>1257.86</td>\n",
              "      <td>5302.75</td>\n",
              "      <td>NaN</td>\n",
              "      <td>304.47</td>\n",
              "      <td>NaN</td>\n",
              "      <td>NaN</td>\n",
              "      <td>670.67</td>\n",
              "      <td>NaN</td>\n",
              "      <td>NaN</td>\n",
              "      <td>0.300990</td>\n",
              "    </tr>\n",
              "  </tbody>\n",
              "</table>\n",
              "</div>"
            ],
            "text/plain": [
              "       Date  Net sales  Net income   EPS  Earnings per diluted share  \\\n",
              "0  1/1/1991    5558.44      474.90  3.77                         NaN   \n",
              "1  1/1/1992    6308.85      309.84  2.58                         NaN   \n",
              "2  1/1/1993    7086.54      530.37  4.33                         NaN   \n",
              "3  1/1/1994    7976.95       86.59  0.73                         NaN   \n",
              "4  1/1/1995    9188.75      310.18  2.61                         NaN   \n",
              "\n",
              "  Cash dividends  declared  per common  share  \\\n",
              "0                                        0.44   \n",
              "1                                        0.48   \n",
              "2                                        0.48   \n",
              "3                                        0.48   \n",
              "4                                        0.48   \n",
              "\n",
              "   Common and  common  equivalent  shares used  in the  calculations  of basic earnings per  share (Per Thousand)  \\\n",
              "0                                             125813                                                                \n",
              "1                                             120283                                                                \n",
              "2                                             122490                                                                \n",
              "3                                             119125                                                                \n",
              "4                                             118735                                                                \n",
              "\n",
              "   Common and  common  equivalent  shares used  in the  calculations  of diluted earnings per  share (Per Thousand)  \\\n",
              "0                                                NaN                                                                  \n",
              "1                                                NaN                                                                  \n",
              "2                                                NaN                                                                  \n",
              "3                                                NaN                                                                  \n",
              "4                                                NaN                                                                  \n",
              "\n",
              "      Cash  Total assets  Commercial paper Long-term debt  \\\n",
              "0   997.09       2975.71               NaN           5.44   \n",
              "1   892.72       3493.60               NaN          18.13   \n",
              "2  1435.50       4223.69               NaN          17.74   \n",
              "3   892.30       5171.41               NaN           7.12   \n",
              "4  1257.86       5302.75               NaN         304.47   \n",
              "\n",
              "   Other long-term obligations  Other non-current liabilities  \\\n",
              "0                          NaN                            NaN   \n",
              "1                          NaN                            NaN   \n",
              "2                          NaN                            NaN   \n",
              "3                          NaN                            NaN   \n",
              "4                          NaN                            NaN   \n",
              "\n",
              "   Deferred tax \\n liabilities  Total Liabilities Shareholder's Equity  \\\n",
              "0                       501.83                NaN                  NaN   \n",
              "1                       509.87                NaN                  NaN   \n",
              "2                       610.80                NaN                  NaN   \n",
              "3                       629.83                NaN                  NaN   \n",
              "4                       670.67                NaN                  NaN   \n",
              "\n",
              "      Price  \n",
              "0  0.395841  \n",
              "1  0.466136  \n",
              "2  0.432079  \n",
              "3  0.240755  \n",
              "4  0.300990  "
            ]
          },
          "execution_count": 40,
          "metadata": {},
          "output_type": "execute_result"
        }
      ],
      "source": [
        "# First look at data\n",
        "df.head()"
      ]
    },
    {
      "cell_type": "code",
      "execution_count": 41,
      "metadata": {
        "colab": {
          "base_uri": "https://localhost:8080/",
          "height": 456
        },
        "id": "qzRV7ZMh75EN",
        "outputId": "20f8b10f-c9d9-4c4c-beb0-62ac19cfa1a5"
      },
      "outputs": [
        {
          "data": {
            "text/html": [
              "<div>\n",
              "<style scoped>\n",
              "    .dataframe tbody tr th:only-of-type {\n",
              "        vertical-align: middle;\n",
              "    }\n",
              "\n",
              "    .dataframe tbody tr th {\n",
              "        vertical-align: top;\n",
              "    }\n",
              "\n",
              "    .dataframe thead th {\n",
              "        text-align: right;\n",
              "    }\n",
              "</style>\n",
              "<table border=\"1\" class=\"dataframe\">\n",
              "  <thead>\n",
              "    <tr style=\"text-align: right;\">\n",
              "      <th></th>\n",
              "      <th>Net sales</th>\n",
              "      <th>Net income</th>\n",
              "      <th>EPS</th>\n",
              "      <th>Earnings per diluted share</th>\n",
              "      <th>Common and  common  equivalent  shares used  in the  calculations  of basic earnings per  share (Per Thousand)</th>\n",
              "      <th>Common and  common  equivalent  shares used  in the  calculations  of diluted earnings per  share (Per Thousand)</th>\n",
              "      <th>Cash</th>\n",
              "      <th>Total assets</th>\n",
              "      <th>Commercial paper</th>\n",
              "      <th>Other long-term obligations</th>\n",
              "      <th>Other non-current liabilities</th>\n",
              "      <th>Deferred tax \\n liabilities</th>\n",
              "      <th>Total Liabilities</th>\n",
              "      <th>Price</th>\n",
              "    </tr>\n",
              "  </thead>\n",
              "  <tbody>\n",
              "    <tr>\n",
              "      <th>count</th>\n",
              "      <td>34.000000</td>\n",
              "      <td>34.000000</td>\n",
              "      <td>34.000000</td>\n",
              "      <td>29.000000</td>\n",
              "      <td>3.400000e+01</td>\n",
              "      <td>2.900000e+01</td>\n",
              "      <td>34.000000</td>\n",
              "      <td>34.000000</td>\n",
              "      <td>8.000000</td>\n",
              "      <td>8.000000</td>\n",
              "      <td>9.000000</td>\n",
              "      <td>11.000000</td>\n",
              "      <td>24.000000</td>\n",
              "      <td>34.000000</td>\n",
              "    </tr>\n",
              "    <tr>\n",
              "      <th>mean</th>\n",
              "      <td>104176.515588</td>\n",
              "      <td>23206.761176</td>\n",
              "      <td>3.813529</td>\n",
              "      <td>3.904483</td>\n",
              "      <td>3.860959e+06</td>\n",
              "      <td>4.551141e+06</td>\n",
              "      <td>75136.955000</td>\n",
              "      <td>120770.563529</td>\n",
              "      <td>7899.000000</td>\n",
              "      <td>23405.625000</td>\n",
              "      <td>47613.777778</td>\n",
              "      <td>4262.636364</td>\n",
              "      <td>110803.416667</td>\n",
              "      <td>27.510635</td>\n",
              "    </tr>\n",
              "    <tr>\n",
              "      <th>std</th>\n",
              "      <td>128152.313019</td>\n",
              "      <td>31532.454868</td>\n",
              "      <td>4.216024</td>\n",
              "      <td>4.508775</td>\n",
              "      <td>5.305292e+06</td>\n",
              "      <td>5.538700e+06</td>\n",
              "      <td>91712.734915</td>\n",
              "      <td>146755.754942</td>\n",
              "      <td>2913.124145</td>\n",
              "      <td>12561.097392</td>\n",
              "      <td>5672.927436</td>\n",
              "      <td>4394.964107</td>\n",
              "      <td>116523.958821</td>\n",
              "      <td>51.142287</td>\n",
              "    </tr>\n",
              "    <tr>\n",
              "      <th>min</th>\n",
              "      <td>5363.000000</td>\n",
              "      <td>-1045.000000</td>\n",
              "      <td>-8.290000</td>\n",
              "      <td>-8.290000</td>\n",
              "      <td>1.187350e+05</td>\n",
              "      <td>1.230470e+05</td>\n",
              "      <td>892.300000</td>\n",
              "      <td>2975.710000</td>\n",
              "      <td>4996.000000</td>\n",
              "      <td>5531.000000</td>\n",
              "      <td>38104.000000</td>\n",
              "      <td>501.830000</td>\n",
              "      <td>2101.000000</td>\n",
              "      <td>0.125352</td>\n",
              "    </tr>\n",
              "    <tr>\n",
              "      <th>25%</th>\n",
              "      <td>7309.142500</td>\n",
              "      <td>309.925000</td>\n",
              "      <td>2.235000</td>\n",
              "      <td>2.100000</td>\n",
              "      <td>1.347698e+05</td>\n",
              "      <td>3.617850e+05</td>\n",
              "      <td>2531.500000</td>\n",
              "      <td>5528.250000</td>\n",
              "      <td>5983.750000</td>\n",
              "      <td>15023.000000</td>\n",
              "      <td>44212.000000</td>\n",
              "      <td>620.315000</td>\n",
              "      <td>6437.750000</td>\n",
              "      <td>0.348346</td>\n",
              "    </tr>\n",
              "    <tr>\n",
              "      <th>50%</th>\n",
              "      <td>21660.500000</td>\n",
              "      <td>2742.500000</td>\n",
              "      <td>3.890000</td>\n",
              "      <td>3.930000</td>\n",
              "      <td>8.543265e+05</td>\n",
              "      <td>9.070050e+05</td>\n",
              "      <td>12748.000000</td>\n",
              "      <td>21276.000000</td>\n",
              "      <td>6154.000000</td>\n",
              "      <td>22517.000000</td>\n",
              "      <td>49142.000000</td>\n",
              "      <td>776.000000</td>\n",
              "      <td>48805.000000</td>\n",
              "      <td>2.651954</td>\n",
              "    </tr>\n",
              "    <tr>\n",
              "      <th>75%</th>\n",
              "      <td>207428.000000</td>\n",
              "      <td>44698.500000</td>\n",
              "      <td>6.157500</td>\n",
              "      <td>6.290000</td>\n",
              "      <td>6.002534e+06</td>\n",
              "      <td>6.472983e+06</td>\n",
              "      <td>160384.000000</td>\n",
              "      <td>275718.500000</td>\n",
              "      <td>10477.500000</td>\n",
              "      <td>34088.750000</td>\n",
              "      <td>50503.000000</td>\n",
              "      <td>7169.500000</td>\n",
              "      <td>242961.000000</td>\n",
              "      <td>25.107349</td>\n",
              "    </tr>\n",
              "    <tr>\n",
              "      <th>max</th>\n",
              "      <td>394328.000000</td>\n",
              "      <td>99803.000000</td>\n",
              "      <td>12.010000</td>\n",
              "      <td>11.910000</td>\n",
              "      <td>1.735212e+07</td>\n",
              "      <td>1.752821e+07</td>\n",
              "      <td>268895.000000</td>\n",
              "      <td>375319.000000</td>\n",
              "      <td>11977.000000</td>\n",
              "      <td>40415.000000</td>\n",
              "      <td>54490.000000</td>\n",
              "      <td>11595.000000</td>\n",
              "      <td>302083.000000</td>\n",
              "      <td>183.702911</td>\n",
              "    </tr>\n",
              "  </tbody>\n",
              "</table>\n",
              "</div>"
            ],
            "text/plain": [
              "           Net sales    Net income        EPS  Earnings per diluted share  \\\n",
              "count      34.000000     34.000000  34.000000                   29.000000   \n",
              "mean   104176.515588  23206.761176   3.813529                    3.904483   \n",
              "std    128152.313019  31532.454868   4.216024                    4.508775   \n",
              "min      5363.000000  -1045.000000  -8.290000                   -8.290000   \n",
              "25%      7309.142500    309.925000   2.235000                    2.100000   \n",
              "50%     21660.500000   2742.500000   3.890000                    3.930000   \n",
              "75%    207428.000000  44698.500000   6.157500                    6.290000   \n",
              "max    394328.000000  99803.000000  12.010000                   11.910000   \n",
              "\n",
              "       Common and  common  equivalent  shares used  in the  calculations  of basic earnings per  share (Per Thousand)  \\\n",
              "count                                       3.400000e+01                                                                \n",
              "mean                                        3.860959e+06                                                                \n",
              "std                                         5.305292e+06                                                                \n",
              "min                                         1.187350e+05                                                                \n",
              "25%                                         1.347698e+05                                                                \n",
              "50%                                         8.543265e+05                                                                \n",
              "75%                                         6.002534e+06                                                                \n",
              "max                                         1.735212e+07                                                                \n",
              "\n",
              "       Common and  common  equivalent  shares used  in the  calculations  of diluted earnings per  share (Per Thousand)  \\\n",
              "count                                       2.900000e+01                                                                  \n",
              "mean                                        4.551141e+06                                                                  \n",
              "std                                         5.538700e+06                                                                  \n",
              "min                                         1.230470e+05                                                                  \n",
              "25%                                         3.617850e+05                                                                  \n",
              "50%                                         9.070050e+05                                                                  \n",
              "75%                                         6.472983e+06                                                                  \n",
              "max                                         1.752821e+07                                                                  \n",
              "\n",
              "                Cash   Total assets  Commercial paper  \\\n",
              "count      34.000000      34.000000          8.000000   \n",
              "mean    75136.955000  120770.563529       7899.000000   \n",
              "std     91712.734915  146755.754942       2913.124145   \n",
              "min       892.300000    2975.710000       4996.000000   \n",
              "25%      2531.500000    5528.250000       5983.750000   \n",
              "50%     12748.000000   21276.000000       6154.000000   \n",
              "75%    160384.000000  275718.500000      10477.500000   \n",
              "max    268895.000000  375319.000000      11977.000000   \n",
              "\n",
              "       Other long-term obligations  Other non-current liabilities  \\\n",
              "count                     8.000000                       9.000000   \n",
              "mean                  23405.625000                   47613.777778   \n",
              "std                   12561.097392                    5672.927436   \n",
              "min                    5531.000000                   38104.000000   \n",
              "25%                   15023.000000                   44212.000000   \n",
              "50%                   22517.000000                   49142.000000   \n",
              "75%                   34088.750000                   50503.000000   \n",
              "max                   40415.000000                   54490.000000   \n",
              "\n",
              "       Deferred tax \\n liabilities  Total Liabilities       Price  \n",
              "count                    11.000000          24.000000   34.000000  \n",
              "mean                   4262.636364      110803.416667   27.510635  \n",
              "std                    4394.964107      116523.958821   51.142287  \n",
              "min                     501.830000        2101.000000    0.125352  \n",
              "25%                     620.315000        6437.750000    0.348346  \n",
              "50%                     776.000000       48805.000000    2.651954  \n",
              "75%                    7169.500000      242961.000000   25.107349  \n",
              "max                   11595.000000      302083.000000  183.702911  "
            ]
          },
          "execution_count": 41,
          "metadata": {},
          "output_type": "execute_result"
        }
      ],
      "source": [
        "# Data Description\n",
        "df.describe()"
      ]
    },
    {
      "cell_type": "code",
      "execution_count": 42,
      "metadata": {
        "colab": {
          "base_uri": "https://localhost:8080/"
        },
        "id": "p8mghzQZ7XCF",
        "outputId": "65227ab5-f81e-47cb-c358-d4db3857bfe7"
      },
      "outputs": [
        {
          "data": {
            "text/plain": [
              "(34, 18)"
            ]
          },
          "execution_count": 42,
          "metadata": {},
          "output_type": "execute_result"
        }
      ],
      "source": [
        "# Data shape\n",
        "df.shape"
      ]
    },
    {
      "cell_type": "code",
      "execution_count": 43,
      "metadata": {
        "colab": {
          "base_uri": "https://localhost:8080/"
        },
        "id": "9o_6wX3y7ZJF",
        "outputId": "106af2f2-845f-42ab-d5f9-53d1fa0ad4e3"
      },
      "outputs": [
        {
          "data": {
            "text/plain": [
              "Index(['Date', 'Net sales', 'Net income', 'EPS', 'Earnings per diluted share',\n",
              "       'Cash dividends  declared  per common  share',\n",
              "       'Common and  common  equivalent  shares used  in the  calculations  of basic earnings per  share (Per Thousand)',\n",
              "       'Common and  common  equivalent  shares used  in the  calculations  of diluted earnings per  share (Per Thousand)',\n",
              "       'Cash', 'Total assets', 'Commercial paper', 'Long-term debt',\n",
              "       'Other long-term obligations', 'Other non-current liabilities',\n",
              "       'Deferred tax \\n liabilities', 'Total Liabilities',\n",
              "       'Shareholder's Equity', 'Price'],\n",
              "      dtype='object')"
            ]
          },
          "execution_count": 43,
          "metadata": {},
          "output_type": "execute_result"
        }
      ],
      "source": [
        "# Features\n",
        "df.columns"
      ]
    },
    {
      "cell_type": "code",
      "execution_count": 44,
      "metadata": {
        "colab": {
          "base_uri": "https://localhost:8080/",
          "height": 649
        },
        "id": "f6EuoN6m7amn",
        "outputId": "b880963e-070b-4192-9316-d9e0af708be5"
      },
      "outputs": [
        {
          "data": {
            "text/plain": [
              "Date                                                                                                                 0\n",
              "Net sales                                                                                                            0\n",
              "Net income                                                                                                           0\n",
              "EPS                                                                                                                  0\n",
              "Earnings per diluted share                                                                                           5\n",
              "Cash dividends  declared  per common  share                                                                          5\n",
              "Common and  common  equivalent  shares used  in the  calculations  of basic earnings per  share (Per Thousand)       0\n",
              "Common and  common  equivalent  shares used  in the  calculations  of diluted earnings per  share (Per Thousand)     5\n",
              "Cash                                                                                                                 0\n",
              "Total assets                                                                                                         0\n",
              "Commercial paper                                                                                                    26\n",
              "Long-term debt                                                                                                       2\n",
              "Other long-term obligations                                                                                         26\n",
              "Other non-current liabilities                                                                                       25\n",
              "Deferred tax \\n liabilities                                                                                         23\n",
              "Total Liabilities                                                                                                   10\n",
              "Shareholder's Equity                                                                                                 5\n",
              "Price                                                                                                                0\n",
              "dtype: int64"
            ]
          },
          "execution_count": 44,
          "metadata": {},
          "output_type": "execute_result"
        }
      ],
      "source": [
        "# Check for nulls\n",
        "df.isna().sum()"
      ]
    },
    {
      "cell_type": "code",
      "execution_count": 45,
      "metadata": {
        "colab": {
          "base_uri": "https://localhost:8080/"
        },
        "id": "xSuj6ERw7cZx",
        "outputId": "1aa7933e-1d93-4e8a-f6b1-6cfc6db6182a"
      },
      "outputs": [
        {
          "data": {
            "text/plain": [
              "np.int64(0)"
            ]
          },
          "execution_count": 45,
          "metadata": {},
          "output_type": "execute_result"
        }
      ],
      "source": [
        "# Check for duplicate rows\n",
        "df.duplicated().sum()"
      ]
    },
    {
      "cell_type": "markdown",
      "metadata": {
        "id": "WNJRCJLZ7LtU"
      },
      "source": [
        "# What pre-processing needs to be done?\n",
        "We can see that some columns have nulls that aren't necessary for my analysis."
      ]
    },
    {
      "cell_type": "code",
      "execution_count": 46,
      "metadata": {
        "id": "DO25Lw3z7jSc"
      },
      "outputs": [],
      "source": [
        "# Drop columns with nulls\n",
        "df = df.drop(['Earnings per diluted share',\n",
        "       'Cash dividends  declared  per common  share',\n",
        "       'Common and  common  equivalent  shares used  in the  calculations  of basic earnings per  share (Per Thousand)',\n",
        "       'Common and  common  equivalent  shares used  in the  calculations  of diluted earnings per  share (Per Thousand)',\n",
        "       'Commercial paper', 'Long-term debt',\n",
        "       'Other long-term obligations', 'Other non-current liabilities',\n",
        "       'Deferred tax \\n liabilities', 'Total Liabilities',\n",
        "       \"Shareholder's Equity\"], axis=1)"
      ]
    },
    {
      "cell_type": "code",
      "execution_count": 47,
      "metadata": {
        "id": "PFZQr9BtRTwj"
      },
      "outputs": [],
      "source": [
        "# Convert index to datetime\n",
        "df.index = pd.to_datetime(df.index)"
      ]
    },
    {
      "cell_type": "markdown",
      "metadata": {
        "id": "zFjIjhwl8CDZ"
      },
      "source": [
        "# Re-analyze the data\n",
        "After all the pre-processing, what are we left with?"
      ]
    },
    {
      "cell_type": "code",
      "execution_count": 48,
      "metadata": {
        "colab": {
          "base_uri": "https://localhost:8080/",
          "height": 206
        },
        "id": "pPb4fgah8JNg",
        "outputId": "fc58b565-4029-4ff5-9093-010d9e67b045"
      },
      "outputs": [
        {
          "data": {
            "text/html": [
              "<div>\n",
              "<style scoped>\n",
              "    .dataframe tbody tr th:only-of-type {\n",
              "        vertical-align: middle;\n",
              "    }\n",
              "\n",
              "    .dataframe tbody tr th {\n",
              "        vertical-align: top;\n",
              "    }\n",
              "\n",
              "    .dataframe thead th {\n",
              "        text-align: right;\n",
              "    }\n",
              "</style>\n",
              "<table border=\"1\" class=\"dataframe\">\n",
              "  <thead>\n",
              "    <tr style=\"text-align: right;\">\n",
              "      <th></th>\n",
              "      <th>Date</th>\n",
              "      <th>Net sales</th>\n",
              "      <th>Net income</th>\n",
              "      <th>EPS</th>\n",
              "      <th>Cash</th>\n",
              "      <th>Total assets</th>\n",
              "      <th>Price</th>\n",
              "    </tr>\n",
              "  </thead>\n",
              "  <tbody>\n",
              "    <tr>\n",
              "      <th>1970-01-01 00:00:00.000000000</th>\n",
              "      <td>1/1/1991</td>\n",
              "      <td>5558.44</td>\n",
              "      <td>474.90</td>\n",
              "      <td>3.77</td>\n",
              "      <td>997.09</td>\n",
              "      <td>2975.71</td>\n",
              "      <td>0.395841</td>\n",
              "    </tr>\n",
              "    <tr>\n",
              "      <th>1970-01-01 00:00:00.000000001</th>\n",
              "      <td>1/1/1992</td>\n",
              "      <td>6308.85</td>\n",
              "      <td>309.84</td>\n",
              "      <td>2.58</td>\n",
              "      <td>892.72</td>\n",
              "      <td>3493.60</td>\n",
              "      <td>0.466136</td>\n",
              "    </tr>\n",
              "    <tr>\n",
              "      <th>1970-01-01 00:00:00.000000002</th>\n",
              "      <td>1/1/1993</td>\n",
              "      <td>7086.54</td>\n",
              "      <td>530.37</td>\n",
              "      <td>4.33</td>\n",
              "      <td>1435.50</td>\n",
              "      <td>4223.69</td>\n",
              "      <td>0.432079</td>\n",
              "    </tr>\n",
              "    <tr>\n",
              "      <th>1970-01-01 00:00:00.000000003</th>\n",
              "      <td>1/1/1994</td>\n",
              "      <td>7976.95</td>\n",
              "      <td>86.59</td>\n",
              "      <td>0.73</td>\n",
              "      <td>892.30</td>\n",
              "      <td>5171.41</td>\n",
              "      <td>0.240755</td>\n",
              "    </tr>\n",
              "    <tr>\n",
              "      <th>1970-01-01 00:00:00.000000004</th>\n",
              "      <td>1/1/1995</td>\n",
              "      <td>9188.75</td>\n",
              "      <td>310.18</td>\n",
              "      <td>2.61</td>\n",
              "      <td>1257.86</td>\n",
              "      <td>5302.75</td>\n",
              "      <td>0.300990</td>\n",
              "    </tr>\n",
              "  </tbody>\n",
              "</table>\n",
              "</div>"
            ],
            "text/plain": [
              "                                   Date  Net sales  Net income   EPS     Cash  \\\n",
              "1970-01-01 00:00:00.000000000  1/1/1991    5558.44      474.90  3.77   997.09   \n",
              "1970-01-01 00:00:00.000000001  1/1/1992    6308.85      309.84  2.58   892.72   \n",
              "1970-01-01 00:00:00.000000002  1/1/1993    7086.54      530.37  4.33  1435.50   \n",
              "1970-01-01 00:00:00.000000003  1/1/1994    7976.95       86.59  0.73   892.30   \n",
              "1970-01-01 00:00:00.000000004  1/1/1995    9188.75      310.18  2.61  1257.86   \n",
              "\n",
              "                               Total assets     Price  \n",
              "1970-01-01 00:00:00.000000000       2975.71  0.395841  \n",
              "1970-01-01 00:00:00.000000001       3493.60  0.466136  \n",
              "1970-01-01 00:00:00.000000002       4223.69  0.432079  \n",
              "1970-01-01 00:00:00.000000003       5171.41  0.240755  \n",
              "1970-01-01 00:00:00.000000004       5302.75  0.300990  "
            ]
          },
          "execution_count": 48,
          "metadata": {},
          "output_type": "execute_result"
        }
      ],
      "source": [
        "# Look at new data\n",
        "df.head()"
      ]
    },
    {
      "cell_type": "code",
      "execution_count": 49,
      "metadata": {
        "colab": {
          "base_uri": "https://localhost:8080/",
          "height": 300
        },
        "id": "6yy3Ol_H8SW2",
        "outputId": "b2a657de-36fe-4205-e803-f41766893a7b"
      },
      "outputs": [
        {
          "data": {
            "text/html": [
              "<div>\n",
              "<style scoped>\n",
              "    .dataframe tbody tr th:only-of-type {\n",
              "        vertical-align: middle;\n",
              "    }\n",
              "\n",
              "    .dataframe tbody tr th {\n",
              "        vertical-align: top;\n",
              "    }\n",
              "\n",
              "    .dataframe thead th {\n",
              "        text-align: right;\n",
              "    }\n",
              "</style>\n",
              "<table border=\"1\" class=\"dataframe\">\n",
              "  <thead>\n",
              "    <tr style=\"text-align: right;\">\n",
              "      <th></th>\n",
              "      <th>Net sales</th>\n",
              "      <th>Net income</th>\n",
              "      <th>EPS</th>\n",
              "      <th>Cash</th>\n",
              "      <th>Total assets</th>\n",
              "      <th>Price</th>\n",
              "    </tr>\n",
              "  </thead>\n",
              "  <tbody>\n",
              "    <tr>\n",
              "      <th>count</th>\n",
              "      <td>34.000000</td>\n",
              "      <td>34.000000</td>\n",
              "      <td>34.000000</td>\n",
              "      <td>34.000000</td>\n",
              "      <td>34.000000</td>\n",
              "      <td>34.000000</td>\n",
              "    </tr>\n",
              "    <tr>\n",
              "      <th>mean</th>\n",
              "      <td>104176.515588</td>\n",
              "      <td>23206.761176</td>\n",
              "      <td>3.813529</td>\n",
              "      <td>75136.955000</td>\n",
              "      <td>120770.563529</td>\n",
              "      <td>27.510635</td>\n",
              "    </tr>\n",
              "    <tr>\n",
              "      <th>std</th>\n",
              "      <td>128152.313019</td>\n",
              "      <td>31532.454868</td>\n",
              "      <td>4.216024</td>\n",
              "      <td>91712.734915</td>\n",
              "      <td>146755.754942</td>\n",
              "      <td>51.142287</td>\n",
              "    </tr>\n",
              "    <tr>\n",
              "      <th>min</th>\n",
              "      <td>5363.000000</td>\n",
              "      <td>-1045.000000</td>\n",
              "      <td>-8.290000</td>\n",
              "      <td>892.300000</td>\n",
              "      <td>2975.710000</td>\n",
              "      <td>0.125352</td>\n",
              "    </tr>\n",
              "    <tr>\n",
              "      <th>25%</th>\n",
              "      <td>7309.142500</td>\n",
              "      <td>309.925000</td>\n",
              "      <td>2.235000</td>\n",
              "      <td>2531.500000</td>\n",
              "      <td>5528.250000</td>\n",
              "      <td>0.348346</td>\n",
              "    </tr>\n",
              "    <tr>\n",
              "      <th>50%</th>\n",
              "      <td>21660.500000</td>\n",
              "      <td>2742.500000</td>\n",
              "      <td>3.890000</td>\n",
              "      <td>12748.000000</td>\n",
              "      <td>21276.000000</td>\n",
              "      <td>2.651954</td>\n",
              "    </tr>\n",
              "    <tr>\n",
              "      <th>75%</th>\n",
              "      <td>207428.000000</td>\n",
              "      <td>44698.500000</td>\n",
              "      <td>6.157500</td>\n",
              "      <td>160384.000000</td>\n",
              "      <td>275718.500000</td>\n",
              "      <td>25.107349</td>\n",
              "    </tr>\n",
              "    <tr>\n",
              "      <th>max</th>\n",
              "      <td>394328.000000</td>\n",
              "      <td>99803.000000</td>\n",
              "      <td>12.010000</td>\n",
              "      <td>268895.000000</td>\n",
              "      <td>375319.000000</td>\n",
              "      <td>183.702911</td>\n",
              "    </tr>\n",
              "  </tbody>\n",
              "</table>\n",
              "</div>"
            ],
            "text/plain": [
              "           Net sales    Net income        EPS           Cash   Total assets  \\\n",
              "count      34.000000     34.000000  34.000000      34.000000      34.000000   \n",
              "mean   104176.515588  23206.761176   3.813529   75136.955000  120770.563529   \n",
              "std    128152.313019  31532.454868   4.216024   91712.734915  146755.754942   \n",
              "min      5363.000000  -1045.000000  -8.290000     892.300000    2975.710000   \n",
              "25%      7309.142500    309.925000   2.235000    2531.500000    5528.250000   \n",
              "50%     21660.500000   2742.500000   3.890000   12748.000000   21276.000000   \n",
              "75%    207428.000000  44698.500000   6.157500  160384.000000  275718.500000   \n",
              "max    394328.000000  99803.000000  12.010000  268895.000000  375319.000000   \n",
              "\n",
              "            Price  \n",
              "count   34.000000  \n",
              "mean    27.510635  \n",
              "std     51.142287  \n",
              "min      0.125352  \n",
              "25%      0.348346  \n",
              "50%      2.651954  \n",
              "75%     25.107349  \n",
              "max    183.702911  "
            ]
          },
          "execution_count": 49,
          "metadata": {},
          "output_type": "execute_result"
        }
      ],
      "source": [
        "# New data description\n",
        "df.describe()"
      ]
    },
    {
      "cell_type": "code",
      "execution_count": 50,
      "metadata": {
        "colab": {
          "base_uri": "https://localhost:8080/"
        },
        "id": "SeBECHur8Q2i",
        "outputId": "c639cdb0-cfdd-4ca9-ffe2-7052f009fc61"
      },
      "outputs": [
        {
          "data": {
            "text/plain": [
              "(34, 7)"
            ]
          },
          "execution_count": 50,
          "metadata": {},
          "output_type": "execute_result"
        }
      ],
      "source": [
        "# New shape\n",
        "df.shape"
      ]
    },
    {
      "cell_type": "code",
      "execution_count": 51,
      "metadata": {
        "colab": {
          "base_uri": "https://localhost:8080/"
        },
        "id": "d-wEHJ4c8X5O",
        "outputId": "99d763cf-4579-4ae3-8aad-8695dd2769c4"
      },
      "outputs": [
        {
          "data": {
            "text/plain": [
              "Index(['Date', 'Net sales', 'Net income', 'EPS', 'Cash', 'Total assets',\n",
              "       'Price'],\n",
              "      dtype='object')"
            ]
          },
          "execution_count": 51,
          "metadata": {},
          "output_type": "execute_result"
        }
      ],
      "source": [
        "# New list of features\n",
        "df.columns"
      ]
    },
    {
      "cell_type": "markdown",
      "metadata": {
        "id": "84GZdYh69KjP"
      },
      "source": [
        "# Linear Regression"
      ]
    },
    {
      "cell_type": "code",
      "execution_count": 52,
      "metadata": {
        "id": "pWetqfmJ9JsC"
      },
      "outputs": [],
      "source": [
        "# Define predictors & target\n",
        "X = df[['Net sales', 'Net income', 'EPS', 'Cash', 'Total assets']]\n",
        "Y= df['Price']"
      ]
    },
    {
      "cell_type": "code",
      "execution_count": 53,
      "metadata": {
        "id": "XzrYxUfv9X0E"
      },
      "outputs": [],
      "source": [
        "# Data partition. Random state can be any number, just has to be consistent throughout the code\n",
        "X_train, X_test, Y_train, Y_test = train_test_split(X,Y, test_size = 0.2, random_state =0) # Random state can be any number, just has to be consistent throughout the code"
      ]
    },
    {
      "cell_type": "markdown",
      "metadata": {
        "id": "lgFcMpQYSv9A"
      },
      "source": [
        "## Method 1\n",
        "Using scikit-learn"
      ]
    },
    {
      "cell_type": "code",
      "execution_count": 54,
      "metadata": {
        "colab": {
          "base_uri": "https://localhost:8080/"
        },
        "id": "0BRkY-d_T8Pt",
        "outputId": "6fe0a482-3535-4050-ceb8-fb04a5249659"
      },
      "outputs": [
        {
          "name": "stdout",
          "output_type": "stream",
          "text": [
            "0.887055111354335\n"
          ]
        }
      ],
      "source": [
        "# Fit regression model\n",
        "reg = LinearRegression()\n",
        "reg.fit(X_train, Y_train)\n",
        "print(reg.score(X_test,Y_test))"
      ]
    },
    {
      "cell_type": "code",
      "execution_count": 55,
      "metadata": {
        "id": "Bovzk4d7VSBm"
      },
      "outputs": [],
      "source": [
        "# Model Prediction\n",
        "Y_pred1 = reg.predict(X_test)"
      ]
    },
    {
      "cell_type": "code",
      "execution_count": 56,
      "metadata": {
        "colab": {
          "base_uri": "https://localhost:8080/"
        },
        "id": "h7A9AikdVcMh",
        "outputId": "42c57e84-6e36-4ba1-df4f-bb6b892e7e70"
      },
      "outputs": [
        {
          "name": "stdout",
          "output_type": "stream",
          "text": [
            "MAE: 10.22\n",
            " MSE:370.79 \n",
            " MAPE:3.25%.\n"
          ]
        }
      ],
      "source": [
        "# Find error between predicted and test values for model 1\n",
        "mae1 = mean_absolute_error(Y_test, Y_pred1).round(2)\n",
        "mse1 = mean_squared_error(Y_test, Y_pred1).round(2)\n",
        "mape1 = ((np.mean(np.abs(Y_test-Y_pred1)/Y_test) * 100)/len(df)).round(2)\n",
        "\n",
        "print(f\"MAE: {mae1}\\n MSE:{mse1} \\n MAPE:{mape1}%.\")"
      ]
    },
    {
      "cell_type": "markdown",
      "metadata": {
        "id": "xhYS7PodSa8g"
      },
      "source": [
        "## Method 2\n",
        "Using Ordinary Least Squares Regression from statsmodel"
      ]
    },
    {
      "cell_type": "code",
      "execution_count": 57,
      "metadata": {
        "id": "pujIhnAt9bbB"
      },
      "outputs": [],
      "source": [
        "# Model fit\n",
        "model2 = sm.OLS(Y_train, X_train).fit()"
      ]
    },
    {
      "cell_type": "code",
      "execution_count": 58,
      "metadata": {
        "colab": {
          "base_uri": "https://localhost:8080/"
        },
        "id": "wnfk1Ped9dVj",
        "outputId": "a607e38c-33e2-4e5e-d2ca-95d602522b2e"
      },
      "outputs": [
        {
          "name": "stdout",
          "output_type": "stream",
          "text": [
            "                                 OLS Regression Results                                \n",
            "=======================================================================================\n",
            "Dep. Variable:                  Price   R-squared (uncentered):                   0.958\n",
            "Model:                            OLS   Adj. R-squared (uncentered):              0.955\n",
            "Method:                 Least Squares   F-statistic:                              287.6\n",
            "Date:                Thu, 10 Oct 2024   Prob (F-statistic):                    5.57e-18\n",
            "Time:                        17:13:19   Log-Likelihood:                         -103.49\n",
            "No. Observations:                  27   AIC:                                      211.0\n",
            "Df Residuals:                      25   BIC:                                      213.6\n",
            "Df Model:                           2                                                  \n",
            "Covariance Type:            nonrobust                                                  \n",
            "================================================================================\n",
            "                   coef    std err          t      P>|t|      [0.025      0.975]\n",
            "--------------------------------------------------------------------------------\n",
            "Cash            -0.0016      0.000    -12.287      0.000      -0.002      -0.001\n",
            "Total assets     0.0012   8.11e-05     15.274      0.000       0.001       0.001\n",
            "==============================================================================\n",
            "Omnibus:                       24.983   Durbin-Watson:                   1.918\n",
            "Prob(Omnibus):                  0.000   Jarque-Bera (JB):               59.025\n",
            "Skew:                           1.693   Prob(JB):                     1.52e-13\n",
            "Kurtosis:                       9.404   Cond. No.                         14.7\n",
            "==============================================================================\n",
            "\n",
            "Notes:\n",
            "[1] R² is computed without centering (uncentered) since the model does not contain a constant.\n",
            "[2] Standard Errors assume that the covariance matrix of the errors is correctly specified.\n"
          ]
        }
      ],
      "source": [
        "# Model summary\n",
        "print(model2.summary())"
      ]
    },
    {
      "cell_type": "code",
      "execution_count": 59,
      "metadata": {
        "id": "_-9WK27Y9oPF"
      },
      "outputs": [],
      "source": [
        "# Remove insignificant feature\n",
        "X = X.drop(['Net sales'], axis=1)\n",
        "X_train, X_test, Y_train, Y_test = train_test_split(X,Y, test_size = 0.2, random_state =0)"
      ]
    },
    {
      "cell_type": "code",
      "execution_count": 60,
      "metadata": {
        "id": "gumjio1Q-OfN"
      },
      "outputs": [],
      "source": [
        "# Re-run the model\n",
        "model2 = sm.OLS(Y_train, X_train).fit()"
      ]
    },
    {
      "cell_type": "code",
      "execution_count": 61,
      "metadata": {
        "colab": {
          "base_uri": "https://localhost:8080/"
        },
        "id": "oIhMPfrT-Red",
        "outputId": "78317cbb-58f1-4896-bdd6-59cf101dc07e"
      },
      "outputs": [
        {
          "name": "stdout",
          "output_type": "stream",
          "text": [
            "                                 OLS Regression Results                                \n",
            "=======================================================================================\n",
            "Dep. Variable:                  Price   R-squared (uncentered):                   0.966\n",
            "Model:                            OLS   Adj. R-squared (uncentered):              0.960\n",
            "Method:                 Least Squares   F-statistic:                              164.2\n",
            "Date:                Thu, 10 Oct 2024   Prob (F-statistic):                    1.48e-16\n",
            "Time:                        17:13:19   Log-Likelihood:                         -100.69\n",
            "No. Observations:                  27   AIC:                                      209.4\n",
            "Df Residuals:                      23   BIC:                                      214.6\n",
            "Df Model:                           4                                                  \n",
            "Covariance Type:            nonrobust                                                  \n",
            "================================================================================\n",
            "                   coef    std err          t      P>|t|      [0.025      0.975]\n",
            "--------------------------------------------------------------------------------\n",
            "Net income      -0.0005      0.000     -1.126      0.272      -0.001       0.000\n",
            "EPS             -1.3314      0.658     -2.022      0.055      -2.693       0.031\n",
            "Cash            -0.0018      0.000     -7.099      0.000      -0.002      -0.001\n",
            "Total assets     0.0015      0.000      6.460      0.000       0.001       0.002\n",
            "==============================================================================\n",
            "Omnibus:                        7.594   Durbin-Watson:                   1.888\n",
            "Prob(Omnibus):                  0.022   Jarque-Bera (JB):                8.770\n",
            "Skew:                           0.457   Prob(JB):                       0.0125\n",
            "Kurtosis:                       5.638   Cond. No.                     6.74e+04\n",
            "==============================================================================\n",
            "\n",
            "Notes:\n",
            "[1] R² is computed without centering (uncentered) since the model does not contain a constant.\n",
            "[2] Standard Errors assume that the covariance matrix of the errors is correctly specified.\n",
            "[3] The condition number is large, 6.74e+04. This might indicate that there are\n",
            "strong multicollinearity or other numerical problems.\n"
          ]
        }
      ],
      "source": [
        "# Re-run model summary\n",
        "print(model2.summary())"
      ]
    },
    {
      "cell_type": "code",
      "execution_count": 62,
      "metadata": {
        "colab": {
          "base_uri": "https://localhost:8080/"
        },
        "id": "xVZ8VPyCUqTE",
        "outputId": "b076452d-e87a-44c0-c2a1-64bf63e233a8"
      },
      "outputs": [
        {
          "name": "stdout",
          "output_type": "stream",
          "text": [
            "                                 OLS Regression Results                                \n",
            "=======================================================================================\n",
            "Dep. Variable:                  Price   R-squared (uncentered):                   0.964\n",
            "Model:                            OLS   Adj. R-squared (uncentered):              0.960\n",
            "Method:                 Least Squares   F-statistic:                              216.1\n",
            "Date:                Thu, 10 Oct 2024   Prob (F-statistic):                    1.70e-17\n",
            "Time:                        17:13:19   Log-Likelihood:                         -101.41\n",
            "No. Observations:                  27   AIC:                                      208.8\n",
            "Df Residuals:                      24   BIC:                                      212.7\n",
            "Df Model:                           3                                                  \n",
            "Covariance Type:            nonrobust                                                  \n",
            "================================================================================\n",
            "                   coef    std err          t      P>|t|      [0.025      0.975]\n",
            "--------------------------------------------------------------------------------\n",
            "EPS             -1.3241      0.662     -2.000      0.057      -2.690       0.042\n",
            "Cash            -0.0016      0.000    -12.037      0.000      -0.002      -0.001\n",
            "Total assets     0.0012   7.67e-05     16.046      0.000       0.001       0.001\n",
            "==============================================================================\n",
            "Omnibus:                       12.700   Durbin-Watson:                   1.883\n",
            "Prob(Omnibus):                  0.002   Jarque-Bera (JB):               19.002\n",
            "Skew:                           0.864   Prob(JB):                     7.48e-05\n",
            "Kurtosis:                       6.729   Cond. No.                     6.65e+04\n",
            "==============================================================================\n",
            "\n",
            "Notes:\n",
            "[1] R² is computed without centering (uncentered) since the model does not contain a constant.\n",
            "[2] Standard Errors assume that the covariance matrix of the errors is correctly specified.\n",
            "[3] The condition number is large, 6.65e+04. This might indicate that there are\n",
            "strong multicollinearity or other numerical problems.\n"
          ]
        }
      ],
      "source": [
        "X = X.drop(['Net income'], axis=1)\n",
        "X_train, X_test, Y_train, Y_test = train_test_split(X,Y, test_size = 0.2, random_state =0)\n",
        "model2 = sm.OLS(Y_train, X_train).fit()\n",
        "print(model2.summary())"
      ]
    },
    {
      "cell_type": "code",
      "execution_count": 63,
      "metadata": {
        "colab": {
          "base_uri": "https://localhost:8080/"
        },
        "id": "UFzwdj5MUtDY",
        "outputId": "4e37a8ab-0fd8-41f7-da1b-ab6c7b36575c"
      },
      "outputs": [
        {
          "name": "stdout",
          "output_type": "stream",
          "text": [
            "                                 OLS Regression Results                                \n",
            "=======================================================================================\n",
            "Dep. Variable:                  Price   R-squared (uncentered):                   0.958\n",
            "Model:                            OLS   Adj. R-squared (uncentered):              0.955\n",
            "Method:                 Least Squares   F-statistic:                              287.6\n",
            "Date:                Thu, 10 Oct 2024   Prob (F-statistic):                    5.57e-18\n",
            "Time:                        17:13:19   Log-Likelihood:                         -103.49\n",
            "No. Observations:                  27   AIC:                                      211.0\n",
            "Df Residuals:                      25   BIC:                                      213.6\n",
            "Df Model:                           2                                                  \n",
            "Covariance Type:            nonrobust                                                  \n",
            "================================================================================\n",
            "                   coef    std err          t      P>|t|      [0.025      0.975]\n",
            "--------------------------------------------------------------------------------\n",
            "Cash            -0.0016      0.000    -12.287      0.000      -0.002      -0.001\n",
            "Total assets     0.0012   8.11e-05     15.274      0.000       0.001       0.001\n",
            "==============================================================================\n",
            "Omnibus:                       24.983   Durbin-Watson:                   1.918\n",
            "Prob(Omnibus):                  0.000   Jarque-Bera (JB):               59.025\n",
            "Skew:                           1.693   Prob(JB):                     1.52e-13\n",
            "Kurtosis:                       9.404   Cond. No.                         14.7\n",
            "==============================================================================\n",
            "\n",
            "Notes:\n",
            "[1] R² is computed without centering (uncentered) since the model does not contain a constant.\n",
            "[2] Standard Errors assume that the covariance matrix of the errors is correctly specified.\n"
          ]
        }
      ],
      "source": [
        "X = X.drop(['EPS'], axis=1)\n",
        "X_train, X_test, Y_train, Y_test = train_test_split(X,Y, test_size = 0.2, random_state =0)\n",
        "model2 = sm.OLS(Y_train, X_train).fit()\n",
        "print(model2.summary())"
      ]
    },
    {
      "cell_type": "code",
      "execution_count": 64,
      "metadata": {
        "colab": {
          "base_uri": "https://localhost:8080/",
          "height": 564
        },
        "id": "6WEOiPCPDNEl",
        "outputId": "adbd4acc-f077-4bb7-a6eb-4feef79f3099"
      },
      "outputs": [
        {
          "data": {
            "image/png": "[encoded data removed]",
            "text/plain": [
              "<Figure size 1000x600 with 1 Axes>"
            ]
          },
          "metadata": {},
          "output_type": "display_data"
        }
      ],
      "source": [
        "# Visualizations\n",
        "plt.figure(figsize=(10, 6))\n",
        "plt.scatter(df['Cash'], df['Price'])\n",
        "plt.xlabel('Cash')\n",
        "plt.ylabel('Price')\n",
        "plt.title('Apple Cash vs Price Scatter Plot')\n",
        "plt.show()"
      ]
    },
    {
      "cell_type": "code",
      "execution_count": 65,
      "metadata": {
        "colab": {
          "base_uri": "https://localhost:8080/",
          "height": 564
        },
        "id": "1PIhfNU8U1QF",
        "outputId": "39b72edc-fe70-4496-9e30-0f651492fc10"
      },
      "outputs": [
        {
          "data": {
            "image/png": "[encoded data removed]",
            "text/plain": [
              "<Figure size 1000x600 with 1 Axes>"
            ]
          },
          "metadata": {},
          "output_type": "display_data"
        }
      ],
      "source": [
        "plt.figure(figsize=(10, 6))\n",
        "plt.scatter(df['Total assets'], df['Price'])\n",
        "plt.xlabel('Total Assets')\n",
        "plt.ylabel('Price')\n",
        "plt.title('Apple Assets vs Price Scatter Plot')\n",
        "plt.show()"
      ]
    },
    {
      "cell_type": "code",
      "execution_count": 66,
      "metadata": {
        "id": "17C2AQWM-ig1"
      },
      "outputs": [],
      "source": [
        "# Predict Y-values using models\n",
        "Y_pred2 = model2.predict(X_test)"
      ]
    },
    {
      "cell_type": "code",
      "execution_count": 67,
      "metadata": {
        "colab": {
          "base_uri": "https://localhost:8080/"
        },
        "id": "UcFzYo91XDx0",
        "outputId": "14294989-8451-4c85-f1e2-028840d91edc"
      },
      "outputs": [
        {
          "name": "stdout",
          "output_type": "stream",
          "text": [
            "MAE: 10.37\n",
            " MSE:378.19 \n",
            " MAPE:3.06%.\n"
          ]
        }
      ],
      "source": [
        "# Find error between predicted and test values for model 2\n",
        "mae2 = mean_absolute_error(Y_test, Y_pred2).round(2)\n",
        "mse2 = mean_squared_error(Y_test, Y_pred2).round(2)\n",
        "mape2 = ((np.mean(np.abs(Y_test-Y_pred2)/Y_test) * 100)/len(df)).round(2)\n",
        "\n",
        "print(f\"MAE: {mae2}\\n MSE:{mse2} \\n MAPE:{mape2}%.\")"
      ]
    }
  ],
  "metadata": {
    "colab": {
      "provenance": []
    },
    "kernelspec": {
      "display_name": "Python 3",
      "name": "python3"
    },
    "language_info": {
      "codemirror_mode": {
        "name": "ipython",
        "version": 3
      },
      "file_extension": ".py",
      "mimetype": "text/x-python",
      "name": "python",
      "nbconvert_exporter": "python",
      "pygments_lexer": "ipython3",
      "version": "3.12.5"
    }
  },
  "nbformat": 4,
  "nbformat_minor": 0
}
